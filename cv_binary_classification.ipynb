{
 "cells": [
  {
   "cell_type": "markdown",
   "id": "6de87638-e54e-4267-9ba6-5995a9feb715",
   "metadata": {},
   "source": [
    "# ML Challenge: Cross-Validation Framework\n",
    "\n",
    "## Challenge Description\n",
    " \n",
    "**Objective**: Create a cross-validation framework to compare different ML models on a classification task.\n",
    "\n",
    "**Skills practiced**:\n",
    "- Model selection\n",
    "- Cross-validation\n",
    "- Performance evaluation\n",
    "- Results visualization\n",
    "\n",
    "## Challenge Requirements\n",
    "\n",
    "1. Compare at least 5 different classification models\n",
    "2. Implement repeated stratified k-fold cross-validation\n",
    "3. Evaluate using ROC AUC score\n",
    "4. Create a sorted summary table of model performance\n",
    "5. Visualize the results\n"
   ]
  },
  {
   "cell_type": "code",
   "execution_count": 2,
   "id": "1a4e64f1-e7c0-4b27-a9bf-7861b99a78a4",
   "metadata": {},
   "outputs": [],
   "source": [
    "# Import data libraries\n",
    "import pandas as pd\n",
    "import numpy as np\n",
    "import matplotlib.pyplot as plt\n",
    "\n",
    "# Generate synthetic classification data\n",
    "from sklearn.datasets import make_classification\n",
    "\n",
    "# EXECUTE THIS CELL\n",
    "X, y = make_classification(\n",
    "    n_samples=1000, \n",
    "    n_features=10, \n",
    "    n_informative=6, \n",
    "    n_redundant=4, \n",
    "    n_classes=2, \n",
    "    random_state=42\n",
    ")"
   ]
  },
  {
   "cell_type": "markdown",
   "id": "4dee8551-918d-43f6-8cb1-91d25ebdec32",
   "metadata": {},
   "source": [
    "## Starter Code\n",
    "\n",
    "*This section gives you a starting point. Complete the code where indicated.*\n",
    "\n",
    "## STEP 1: Import the required models\n",
    "*HINT: Consider logistic regression, k-NN, decision tree,  random forest, extratrees, XGBoost, LightGBM, Catboost, SVM, and naive Bayes*\n"
   ]
  },
  {
   "cell_type": "code",
   "execution_count": null,
   "id": "9536a8c5-e675-4fac-af24-fcb1e8aed605",
   "metadata": {},
   "outputs": [],
   "source": [
    "# code here"
   ]
  },
  {
   "cell_type": "code",
   "execution_count": 4,
   "id": "a5dfb57e-cd3a-470b-a2eb-6675fee01fc7",
   "metadata": {
    "jupyter": {
     "source_hidden": true
    }
   },
   "outputs": [],
   "source": [
    "\n",
    "from sklearn.linear_model import LogisticRegression\n",
    "from sklearn.neighbors import KNeighborsClassifier\n",
    "from sklearn.tree import DecisionTreeClassifier\n",
    "from sklearn.ensemble import RandomForestClassifier, ExtraTreesClassifier\n",
    "from xgboost import XGBClassifier\n",
    "from lightgbm import LGBMClassifier\n",
    "from catboost import CatBoostClassifier\n",
    "from sklearn.svm import SVC\n",
    "from sklearn.naive_bayes import GaussianNB"
   ]
  },
  {
   "cell_type": "markdown",
   "id": "734f80ec-d1a5-4f72-ad7b-9bb7689fb003",
   "metadata": {},
   "source": [
    "## STEP 2: Initialize the models\n",
    "*HINT: Store models in a dictionary (`models`) with appropriate names*"
   ]
  },
  {
   "cell_type": "code",
   "execution_count": 9,
   "id": "81d9b1fb-b45f-4279-a6d4-7c9124085427",
   "metadata": {},
   "outputs": [],
   "source": [
    "# code here"
   ]
  },
  {
   "cell_type": "code",
   "execution_count": 20,
   "id": "d771de38-30a7-4e7e-a4ad-c5acced9335d",
   "metadata": {
    "jupyter": {
     "source_hidden": true
    }
   },
   "outputs": [],
   "source": [
    "\n",
    "models = {}\n",
    "models[\"LR\"] = LogisticRegression(n_jobs=-1, random_state=42)\n",
    "models[\"KNN\"] = KNeighborsClassifier(n_jobs=-1)\n",
    "models[\"DTC\"] = DecisionTreeClassifier(random_state=42)\n",
    "models[\"RF\"] = RandomForestClassifier(random_state=42, n_jobs=-1)\n",
    "models[\"ETC\"] = ExtraTreesClassifier(n_jobs=-1, random_state=42)\n",
    "models[\"XGB\"] = XGBClassifier(random_state=42, device=\"cuda\")\n",
    "models[\"LGBM\"] = LGBMClassifier(random_state=42, device=\"gpu\", verbose=-1)\n",
    "models[\"CBoost\"] = CatBoostClassifier(devices=\"cuda\", random_state=42, verbose=0)\n",
    "models[\"SVC\"] = SVC(random_state=42)\n",
    "models[\"GaussianNB\"] = GaussianNB()"
   ]
  },
  {
   "cell_type": "markdown",
   "id": "0d80e97c-4934-4d9f-94ee-6d8d1391d68e",
   "metadata": {},
   "source": [
    "## STEP 3: Set up cross-validation\n",
    "*HINT: Use RepeatedStratifiedKFold with 10 folds and 2 repetitions*"
   ]
  },
  {
   "cell_type": "code",
   "execution_count": 14,
   "id": "f08947f2-48eb-4863-b5d6-42a0fb662d81",
   "metadata": {},
   "outputs": [],
   "source": [
    "# code here"
   ]
  },
  {
   "cell_type": "code",
   "execution_count": 15,
   "id": "c9d4c0aa-d68d-4c39-8dfa-99ea4c49c9e9",
   "metadata": {
    "jupyter": {
     "source_hidden": true
    }
   },
   "outputs": [],
   "source": [
    "\n",
    "from sklearn.model_selection import RepeatedStratifiedKFold\n",
    "\n",
    "rskf = RepeatedStratifiedKFold(n_splits=10, n_repeats=2, random_state=42)"
   ]
  },
  {
   "cell_type": "markdown",
   "id": "ab6fc8ac-12bc-4442-a593-7a465fe04334",
   "metadata": {},
   "source": [
    "## STEP 4: Perform cross-validation and collect results\n",
    "*HINT: Use ROC as valuation metric and store the mean and std scores in `results` dictionary*"
   ]
  },
  {
   "cell_type": "code",
   "execution_count": null,
   "id": "71e6c71e-3446-4b49-bf4b-4a684372f7d6",
   "metadata": {},
   "outputs": [],
   "source": [
    "# code here"
   ]
  },
  {
   "cell_type": "code",
   "execution_count": 21,
   "id": "ebebe627-8852-4736-948e-bca1810294da",
   "metadata": {
    "collapsed": true,
    "jupyter": {
     "outputs_hidden": true,
     "source_hidden": true
    }
   },
   "outputs": [
    {
     "name": "stderr",
     "output_type": "stream",
     "text": [
      "/home/ma/miniforge3/lib/python3.12/site-packages/xgboost/core.py:158: UserWarning: [12:52:24] WARNING: /workspace/src/common/error_msg.cc:58: Falling back to prediction using DMatrix due to mismatched devices. This might lead to higher memory usage and slower performance. XGBoost is running on: cuda:0, while the input data is on: cpu.\n",
      "Potential solutions:\n",
      "- Use a data structure that matches the device ordinal in the booster.\n",
      "- Set the device for booster before call to inplace_predict.\n",
      "\n",
      "This warning will only be shown once.\n",
      "\n",
      "  warnings.warn(smsg, UserWarning)\n",
      "/home/ma/miniforge3/lib/python3.12/site-packages/xgboost/core.py:158: UserWarning: [12:52:24] WARNING: /workspace/src/common/error_msg.cc:58: Falling back to prediction using DMatrix due to mismatched devices. This might lead to higher memory usage and slower performance. XGBoost is running on: cuda:0, while the input data is on: cpu.\n",
      "Potential solutions:\n",
      "- Use a data structure that matches the device ordinal in the booster.\n",
      "- Set the device for booster before call to inplace_predict.\n",
      "\n",
      "This warning will only be shown once.\n",
      "\n",
      "  warnings.warn(smsg, UserWarning)\n",
      "/home/ma/miniforge3/lib/python3.12/site-packages/xgboost/core.py:158: UserWarning: [12:52:24] WARNING: /workspace/src/common/error_msg.cc:58: Falling back to prediction using DMatrix due to mismatched devices. This might lead to higher memory usage and slower performance. XGBoost is running on: cuda:0, while the input data is on: cpu.\n",
      "Potential solutions:\n",
      "- Use a data structure that matches the device ordinal in the booster.\n",
      "- Set the device for booster before call to inplace_predict.\n",
      "\n",
      "This warning will only be shown once.\n",
      "\n",
      "  warnings.warn(smsg, UserWarning)\n",
      "/home/ma/miniforge3/lib/python3.12/site-packages/xgboost/core.py:158: UserWarning: [12:52:24] WARNING: /workspace/src/common/error_msg.cc:58: Falling back to prediction using DMatrix due to mismatched devices. This might lead to higher memory usage and slower performance. XGBoost is running on: cuda:0, while the input data is on: cpu.\n",
      "Potential solutions:\n",
      "- Use a data structure that matches the device ordinal in the booster.\n",
      "- Set the device for booster before call to inplace_predict.\n",
      "\n",
      "This warning will only be shown once.\n",
      "\n",
      "  warnings.warn(smsg, UserWarning)\n",
      "/home/ma/miniforge3/lib/python3.12/site-packages/sklearn/utils/validation.py:2739: UserWarning: X does not have valid feature names, but LGBMClassifier was fitted with feature names\n",
      "  warnings.warn(\n",
      "/home/ma/miniforge3/lib/python3.12/site-packages/joblib/externals/loky/process_executor.py:752: UserWarning: A worker stopped while some jobs were given to the executor. This can be caused by a too short worker timeout or by a memory leak.\n",
      "  warnings.warn(\n",
      "/home/ma/miniforge3/lib/python3.12/site-packages/sklearn/utils/validation.py:2739: UserWarning: X does not have valid feature names, but LGBMClassifier was fitted with feature names\n",
      "  warnings.warn(\n",
      "/home/ma/miniforge3/lib/python3.12/site-packages/sklearn/utils/validation.py:2739: UserWarning: X does not have valid feature names, but LGBMClassifier was fitted with feature names\n",
      "  warnings.warn(\n",
      "/home/ma/miniforge3/lib/python3.12/site-packages/sklearn/utils/validation.py:2739: UserWarning: X does not have valid feature names, but LGBMClassifier was fitted with feature names\n",
      "  warnings.warn(\n",
      "/home/ma/miniforge3/lib/python3.12/site-packages/sklearn/utils/validation.py:2739: UserWarning: X does not have valid feature names, but LGBMClassifier was fitted with feature names\n",
      "  warnings.warn(\n",
      "/home/ma/miniforge3/lib/python3.12/site-packages/sklearn/utils/validation.py:2739: UserWarning: X does not have valid feature names, but LGBMClassifier was fitted with feature names\n",
      "  warnings.warn(\n",
      "/home/ma/miniforge3/lib/python3.12/site-packages/sklearn/utils/validation.py:2739: UserWarning: X does not have valid feature names, but LGBMClassifier was fitted with feature names\n",
      "  warnings.warn(\n",
      "/home/ma/miniforge3/lib/python3.12/site-packages/sklearn/utils/validation.py:2739: UserWarning: X does not have valid feature names, but LGBMClassifier was fitted with feature names\n",
      "  warnings.warn(\n",
      "/home/ma/miniforge3/lib/python3.12/site-packages/sklearn/utils/validation.py:2739: UserWarning: X does not have valid feature names, but LGBMClassifier was fitted with feature names\n",
      "  warnings.warn(\n",
      "/home/ma/miniforge3/lib/python3.12/site-packages/sklearn/utils/validation.py:2739: UserWarning: X does not have valid feature names, but LGBMClassifier was fitted with feature names\n",
      "  warnings.warn(\n",
      "/home/ma/miniforge3/lib/python3.12/site-packages/sklearn/utils/validation.py:2739: UserWarning: X does not have valid feature names, but LGBMClassifier was fitted with feature names\n",
      "  warnings.warn(\n",
      "/home/ma/miniforge3/lib/python3.12/site-packages/sklearn/utils/validation.py:2739: UserWarning: X does not have valid feature names, but LGBMClassifier was fitted with feature names\n",
      "  warnings.warn(\n",
      "/home/ma/miniforge3/lib/python3.12/site-packages/sklearn/utils/validation.py:2739: UserWarning: X does not have valid feature names, but LGBMClassifier was fitted with feature names\n",
      "  warnings.warn(\n",
      "/home/ma/miniforge3/lib/python3.12/site-packages/sklearn/utils/validation.py:2739: UserWarning: X does not have valid feature names, but LGBMClassifier was fitted with feature names\n",
      "  warnings.warn(\n",
      "/home/ma/miniforge3/lib/python3.12/site-packages/sklearn/utils/validation.py:2739: UserWarning: X does not have valid feature names, but LGBMClassifier was fitted with feature names\n",
      "  warnings.warn(\n",
      "/home/ma/miniforge3/lib/python3.12/site-packages/sklearn/utils/validation.py:2739: UserWarning: X does not have valid feature names, but LGBMClassifier was fitted with feature names\n",
      "  warnings.warn(\n",
      "/home/ma/miniforge3/lib/python3.12/site-packages/sklearn/utils/validation.py:2739: UserWarning: X does not have valid feature names, but LGBMClassifier was fitted with feature names\n",
      "  warnings.warn(\n",
      "/home/ma/miniforge3/lib/python3.12/site-packages/sklearn/utils/validation.py:2739: UserWarning: X does not have valid feature names, but LGBMClassifier was fitted with feature names\n",
      "  warnings.warn(\n",
      "/home/ma/miniforge3/lib/python3.12/site-packages/sklearn/utils/validation.py:2739: UserWarning: X does not have valid feature names, but LGBMClassifier was fitted with feature names\n",
      "  warnings.warn(\n",
      "/home/ma/miniforge3/lib/python3.12/site-packages/sklearn/utils/validation.py:2739: UserWarning: X does not have valid feature names, but LGBMClassifier was fitted with feature names\n",
      "  warnings.warn(\n"
     ]
    }
   ],
   "source": [
    "\n",
    "from sklearn.model_selection import cross_val_score\n",
    "\n",
    "results = {}\n",
    "for name, model in models.items():\n",
    "    scores = cross_val_score(\n",
    "        estimator=model,\n",
    "        X=X,\n",
    "        y=y,\n",
    "        scoring=\"roc_auc\",\n",
    "        cv=rskf,\n",
    "        n_jobs=-1\n",
    "    )\n",
    "    mean_scores = np.mean(scores)\n",
    "    std_scores = np.std(scores)\n",
    "    results[name] = {\n",
    "        \"mean_roc\" : mean_scores,\n",
    "        \"std_roc\" : std_scores\n",
    "    }"
   ]
  },
  {
   "cell_type": "markdown",
   "id": "0d9555ee-348a-4ea5-90f3-a000619b0b1a",
   "metadata": {},
   "source": [
    "## STEP 5: Create and display a sorted summary table\n",
    "*HINT: Convert results to DataFrame and sort by performance*"
   ]
  },
  {
   "cell_type": "code",
   "execution_count": 22,
   "id": "e3d28383-a5aa-48f6-abac-12c0555e0c77",
   "metadata": {},
   "outputs": [],
   "source": [
    "# code here"
   ]
  },
  {
   "cell_type": "code",
   "execution_count": 27,
   "id": "5c3198b2-2e59-48d8-b4f8-88d804f51f7e",
   "metadata": {
    "jupyter": {
     "source_hidden": true
    }
   },
   "outputs": [
    {
     "data": {
      "text/html": [
       "<div>\n",
       "<style scoped>\n",
       "    .dataframe tbody tr th:only-of-type {\n",
       "        vertical-align: middle;\n",
       "    }\n",
       "\n",
       "    .dataframe tbody tr th {\n",
       "        vertical-align: top;\n",
       "    }\n",
       "\n",
       "    .dataframe thead th {\n",
       "        text-align: right;\n",
       "    }\n",
       "</style>\n",
       "<table border=\"1\" class=\"dataframe\">\n",
       "  <thead>\n",
       "    <tr style=\"text-align: right;\">\n",
       "      <th></th>\n",
       "      <th>mean_roc</th>\n",
       "      <th>std_roc</th>\n",
       "    </tr>\n",
       "    <tr>\n",
       "      <th>models</th>\n",
       "      <th></th>\n",
       "      <th></th>\n",
       "    </tr>\n",
       "  </thead>\n",
       "  <tbody>\n",
       "    <tr>\n",
       "      <th>ETC</th>\n",
       "      <td>0.979800</td>\n",
       "      <td>0.011900</td>\n",
       "    </tr>\n",
       "    <tr>\n",
       "      <th>CBoost</th>\n",
       "      <td>0.977919</td>\n",
       "      <td>0.014058</td>\n",
       "    </tr>\n",
       "    <tr>\n",
       "      <th>LGBM</th>\n",
       "      <td>0.973359</td>\n",
       "      <td>0.012491</td>\n",
       "    </tr>\n",
       "    <tr>\n",
       "      <th>RF</th>\n",
       "      <td>0.971659</td>\n",
       "      <td>0.015322</td>\n",
       "    </tr>\n",
       "    <tr>\n",
       "      <th>XGB</th>\n",
       "      <td>0.969879</td>\n",
       "      <td>0.015027</td>\n",
       "    </tr>\n",
       "    <tr>\n",
       "      <th>KNN</th>\n",
       "      <td>0.969419</td>\n",
       "      <td>0.013379</td>\n",
       "    </tr>\n",
       "    <tr>\n",
       "      <th>SVC</th>\n",
       "      <td>0.966319</td>\n",
       "      <td>0.017794</td>\n",
       "    </tr>\n",
       "    <tr>\n",
       "      <th>GaussianNB</th>\n",
       "      <td>0.907375</td>\n",
       "      <td>0.033350</td>\n",
       "    </tr>\n",
       "    <tr>\n",
       "      <th>LR</th>\n",
       "      <td>0.893455</td>\n",
       "      <td>0.029632</td>\n",
       "    </tr>\n",
       "    <tr>\n",
       "      <th>DTC</th>\n",
       "      <td>0.849012</td>\n",
       "      <td>0.037628</td>\n",
       "    </tr>\n",
       "  </tbody>\n",
       "</table>\n",
       "</div>"
      ],
      "text/plain": [
       "            mean_roc   std_roc\n",
       "models                        \n",
       "ETC         0.979800  0.011900\n",
       "CBoost      0.977919  0.014058\n",
       "LGBM        0.973359  0.012491\n",
       "RF          0.971659  0.015322\n",
       "XGB         0.969879  0.015027\n",
       "KNN         0.969419  0.013379\n",
       "SVC         0.966319  0.017794\n",
       "GaussianNB  0.907375  0.033350\n",
       "LR          0.893455  0.029632\n",
       "DTC         0.849012  0.037628"
      ]
     },
     "execution_count": 27,
     "metadata": {},
     "output_type": "execute_result"
    }
   ],
   "source": [
    "\n",
    "results_df = pd.DataFrame.from_dict(results, columns=[\"mean_roc\", \"std_roc\"], orient=\"index\")\n",
    "results_df.index.name = \"models\"\n",
    "results_df = results_df.sort_values(by=\"mean_roc\", ascending=False)\n",
    "results_df"
   ]
  },
  {
   "cell_type": "markdown",
   "id": "3040259b-7d70-432d-8dcf-e8ebb6500f7c",
   "metadata": {},
   "source": [
    "## STEP 6: Visualize the results\n",
    "*HINT: Create a bar chart with error bars representing standard deviation*"
   ]
  },
  {
   "cell_type": "code",
   "execution_count": null,
   "id": "34a651ed-2157-490e-9fee-4b0008db7595",
   "metadata": {},
   "outputs": [],
   "source": [
    "# code here"
   ]
  },
  {
   "cell_type": "code",
   "execution_count": 37,
   "id": "fbd4ff97-3519-4c90-b717-cbeb2e082a10",
   "metadata": {
    "jupyter": {
     "source_hidden": true
    }
   },
   "outputs": [
    {
     "data": {
      "image/png": "[encoded data removed]",
      "text/plain": [
       "<Figure size 1000x600 with 1 Axes>"
      ]
     },
     "metadata": {},
     "output_type": "display_data"
    }
   ],
   "source": [
    "\n",
    "plt.figure(figsize=(10,6))\n",
    "plt.barh(results_df.index, results_df[\"mean_roc\"], xerr=results_df[\"std_roc\"], capsize=10)\n",
    "plt.xlabel(\"ROC AUC\")\n",
    "plt.ylabel(\"Models\")\n",
    "plt.title(\"Model Performance Comparison\")\n",
    "plt.xlim(0., 1.0)\n",
    "plt.grid(axis=\"y\", linestyle=(\"--\"), alpha=0.7)\n",
    "plt.tight_layout()\n",
    "plt.show()"
   ]
  },
  {
   "cell_type": "code",
   "execution_count": null,
   "id": "f53d7785-636c-4714-81e1-c71be338a724",
   "metadata": {},
   "outputs": [],
   "source": []
  }
 ],
 "metadata": {
  "kernelspec": {
   "display_name": "Python 3 (ipykernel)",
   "language": "python",
   "name": "python3"
  },
  "language_info": {
   "codemirror_mode": {
    "name": "ipython",
    "version": 3
   },
   "file_extension": ".py",
   "mimetype": "text/x-python",
   "name": "python",
   "nbconvert_exporter": "python",
   "pygments_lexer": "ipython3",
   "version": "3.12.8"
  }
 },
 "nbformat": 4,
 "nbformat_minor": 5
}
