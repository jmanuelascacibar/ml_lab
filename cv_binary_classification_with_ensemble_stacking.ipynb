{
 "cells": [
  {
   "cell_type": "markdown",
   "id": "022e5114-7d73-4a49-829d-33e629355495",
   "metadata": {},
   "source": [
    "# ML Challenge: Stacking using Scikit-Learn\n",
    "\n",
    "## Challenge description\n",
    "\n",
    "**Objective**: Create a cross-validation to compare different ML models and a stacking model on a classification task\n",
    "\n",
    "**Skills practiced**:\n",
    "    - Model Selection\n",
    "    - Stacking model\n",
    "    - Cross-validation\n",
    "    - Performance evaluation\n",
    "    - Results visualization\n",
    "\n",
    "## Challenge Requirements\n",
    "\n",
    "1. Compare different classification models to a stacking model using the same models\n",
    "2. Implement a repeated stratified k-fold cross-validation\n",
    "3. Evaluate using ROC AUC score\n",
    "4. Create a sorted summary table of model performance\n",
    "5. Visualize the results"
   ]
  },
  {
   "cell_type": "code",
   "execution_count": 16,
   "id": "1a4e64f1-e7c0-4b27-a9bf-7861b99a78a4",
   "metadata": {},
   "outputs": [],
   "source": [
    "# Import data libraries\n",
    "import pandas as pd\n",
    "import numpy as np\n",
    "import matplotlib.pyplot as plt\n",
    "import warnings\n",
    "warnings.filterwarnings(\"ignore\")\n",
    "\n",
    "# Generate synthetic classification data\n",
    "from sklearn.datasets import make_classification\n",
    "\n",
    "# EXECUTE THIS CELL\n",
    "X, y = make_classification(\n",
    "    n_samples=1000, \n",
    "    n_features=10, \n",
    "    n_informative=6, \n",
    "    n_redundant=4, \n",
    "    n_classes=2, \n",
    "    random_state=42\n",
    ")"
   ]
  },
  {
   "cell_type": "markdown",
   "id": "ed69290e-0fbe-4309-96c7-47aaea6ca906",
   "metadata": {},
   "source": [
    "## Starter Code\n",
    "\n",
    "*This section gives you a starting point. Complete the code where indicated.*\n",
    "\n",
    "## STEP 1: Import the required models\n",
    "*HINT: Consider logistic regression, k-NN, decision tree,  random forest, extratrees, XGBoost, LightGBM, Catboost, SVM, naive Bayes, and the stacking classifier*\n"
   ]
  },
  {
   "cell_type": "code",
   "execution_count": 17,
   "id": "a5dfb57e-cd3a-470b-a2eb-6675fee01fc7",
   "metadata": {},
   "outputs": [],
   "source": [
    "from sklearn.linear_model import LogisticRegression\n",
    "from sklearn.neighbors import KNeighborsClassifier\n",
    "from sklearn.tree import DecisionTreeClassifier\n",
    "from sklearn.ensemble import RandomForestClassifier, ExtraTreesClassifier, StackingClassifier\n",
    "from xgboost import XGBClassifier\n",
    "from lightgbm import LGBMClassifier\n",
    "from catboost import CatBoostClassifier\n",
    "from sklearn.svm import SVC\n",
    "from sklearn.naive_bayes import GaussianNB"
   ]
  },
  {
   "cell_type": "markdown",
   "id": "110b4d57-d93c-47a4-b9d5-365289ae5256",
   "metadata": {},
   "source": [
    "## STEP 2: Initialize models\n",
    "*HINT: Store models in a dictionary (`models`) with appropriate names*"
   ]
  },
  {
   "cell_type": "code",
   "execution_count": 18,
   "id": "d771de38-30a7-4e7e-a4ad-c5acced9335d",
   "metadata": {
    "jupyter": {
     "source_hidden": true
    }
   },
   "outputs": [],
   "source": [
    "models = {}\n",
    "models[\"LR\"] = LogisticRegression(n_jobs=-1, random_state=42, max_iter=10000)\n",
    "models[\"KNN\"] = KNeighborsClassifier(n_jobs=-1)\n",
    "models[\"DTC\"] = DecisionTreeClassifier(random_state=42)\n",
    "models[\"RF\"] = RandomForestClassifier(random_state=42, n_jobs=-1)\n",
    "models[\"ETC\"] = ExtraTreesClassifier(n_jobs=-1, random_state=42)\n",
    "models[\"XGB\"] = XGBClassifier(random_state=42, device=\"cuda\")\n",
    "models[\"SVC\"] = SVC(random_state=42, probability=True)\n",
    "models[\"GaussianNB\"] = GaussianNB()"
   ]
  },
  {
   "cell_type": "markdown",
   "id": "fb3256c9-772c-4413-b93e-e7bbff68cebe",
   "metadata": {},
   "source": [
    "## STEP 3: Based on your initialized model create a list of base model for the stacking model\n",
    "\n",
    "*HINT: StackingClassifier demand a list of model to feed its estimator argument*"
   ]
  },
  {
   "cell_type": "code",
   "execution_count": 19,
   "id": "46443cf8-1c3e-4228-9e3f-4df1bdb75601",
   "metadata": {
    "jupyter": {
     "source_hidden": true
    }
   },
   "outputs": [
    {
     "name": "stdout",
     "output_type": "stream",
     "text": [
      "[('LR', LogisticRegression(max_iter=10000, n_jobs=-1, random_state=42)), ('KNN', KNeighborsClassifier(n_jobs=-1)), ('DTC', DecisionTreeClassifier(random_state=42)), ('RF', RandomForestClassifier(n_jobs=-1, random_state=42)), ('ETC', ExtraTreesClassifier(n_jobs=-1, random_state=42)), ('XGB', XGBClassifier(base_score=None, booster=None, callbacks=None,\n",
      "              colsample_bylevel=None, colsample_bynode=None,\n",
      "              colsample_bytree=None, device='cuda', early_stopping_rounds=None,\n",
      "              enable_categorical=False, eval_metric=None, feature_types=None,\n",
      "              gamma=None, grow_policy=None, importance_type=None,\n",
      "              interaction_constraints=None, learning_rate=None, max_bin=None,\n",
      "              max_cat_threshold=None, max_cat_to_onehot=None,\n",
      "              max_delta_step=None, max_depth=None, max_leaves=None,\n",
      "              min_child_weight=None, missing=nan, monotone_constraints=None,\n",
      "              multi_strategy=None, n_estimators=None, n_jobs=None,\n",
      "              num_parallel_tree=None, random_state=42, ...)), ('SVC', SVC(probability=True, random_state=42)), ('GaussianNB', GaussianNB())]\n"
     ]
    }
   ],
   "source": [
    "base_model_list = [(name, model) for name, model in models.items()]\n",
    "print(base_model_list)"
   ]
  },
  {
   "cell_type": "markdown",
   "id": "52b4d7b1-da37-47f8-94dc-efa6d67f4b57",
   "metadata": {},
   "source": [
    "## STEP 4: Create a meta model and the final stacking model\n",
    "*HINT: Add the stacking model to the models dictionary*"
   ]
  },
  {
   "cell_type": "code",
   "execution_count": 24,
   "id": "4de840cb-2b2d-45fa-b3b2-37aaa5ad99f5",
   "metadata": {},
   "outputs": [],
   "source": [
    "meta_model = LogisticRegression(solver='liblinear', C=1, penalty='l1')\n",
    "from sklearn.ensemble import StackingClassifier\n",
    "stacking_model = StackingClassifier(\n",
    "    estimators=base_model_list,\n",
    "    final_estimator=meta_model,\n",
    "    cv=5,\n",
    "    stack_method=\"predict_proba\",\n",
    "    n_jobs=-1\n",
    ")\n",
    "models[\"Stacking_5KFOLDS\"] = stacking_model"
   ]
  },
  {
   "cell_type": "markdown",
   "id": "af8ec399-9c15-46c7-bbe8-57a9aba41ab8",
   "metadata": {},
   "source": [
    "## STEP 5: Set up cross-validation\n",
    "*HINT: Use RepeatedStratifiedKFold with 5 folds and 2 repetitions*"
   ]
  },
  {
   "cell_type": "code",
   "execution_count": 25,
   "id": "c9d4c0aa-d68d-4c39-8dfa-99ea4c49c9e9",
   "metadata": {
    "jupyter": {
     "source_hidden": true
    }
   },
   "outputs": [],
   "source": [
    "from sklearn.model_selection import RepeatedStratifiedKFold\n",
    "\n",
    "rskf = RepeatedStratifiedKFold(n_splits=5, n_repeats=2, random_state=42)"
   ]
  },
  {
   "cell_type": "markdown",
   "id": "4211547c-fcec-44fe-a5ba-795beb6022dd",
   "metadata": {},
   "source": [
    "## STEP 6: Perform cross-validation and collect results\n",
    "*HINT: Use ROC AUC as evaluation metric, and store mean and standard deviation of scores in a `results` dictionary"
   ]
  },
  {
   "cell_type": "code",
   "execution_count": 26,
   "id": "ebebe627-8852-4736-948e-bca1810294da",
   "metadata": {
    "jupyter": {
     "source_hidden": true
    },
    "scrolled": true
   },
   "outputs": [],
   "source": [
    "from sklearn.model_selection import cross_val_score\n",
    "\n",
    "results = {}\n",
    "for name, model in models.items():\n",
    "    scores = cross_val_score(\n",
    "        estimator=model,\n",
    "        X=X,\n",
    "        y=y,\n",
    "        scoring=\"roc_auc\",\n",
    "        cv=rskf,\n",
    "        n_jobs=-1\n",
    "    )\n",
    "    mean_scores = np.mean(scores)\n",
    "    std_scores = np.std(scores)\n",
    "    results[name] = {\n",
    "        \"mean_roc\" : mean_scores,\n",
    "        \"std_roc\" : std_scores\n",
    "    }"
   ]
  },
  {
   "cell_type": "markdown",
   "id": "0a4f8c39-5dc6-4229-82d1-22db57fb69d1",
   "metadata": {},
   "source": [
    "## STEP 7: Create and display a sorted summary table\n",
    "*HINT: Convert result to DataFrame and sort by performance*"
   ]
  },
  {
   "cell_type": "code",
   "execution_count": 27,
   "id": "5c3198b2-2e59-48d8-b4f8-88d804f51f7e",
   "metadata": {
    "jupyter": {
     "source_hidden": true
    }
   },
   "outputs": [
    {
     "data": {
      "text/html": [
       "<div>\n",
       "<style scoped>\n",
       "    .dataframe tbody tr th:only-of-type {\n",
       "        vertical-align: middle;\n",
       "    }\n",
       "\n",
       "    .dataframe tbody tr th {\n",
       "        vertical-align: top;\n",
       "    }\n",
       "\n",
       "    .dataframe thead th {\n",
       "        text-align: right;\n",
       "    }\n",
       "</style>\n",
       "<table border=\"1\" class=\"dataframe\">\n",
       "  <thead>\n",
       "    <tr style=\"text-align: right;\">\n",
       "      <th></th>\n",
       "      <th>mean_roc</th>\n",
       "      <th>std_roc</th>\n",
       "    </tr>\n",
       "    <tr>\n",
       "      <th>models</th>\n",
       "      <th></th>\n",
       "      <th></th>\n",
       "    </tr>\n",
       "  </thead>\n",
       "  <tbody>\n",
       "    <tr>\n",
       "      <th>Stacking_5KFOLDS</th>\n",
       "      <td>0.978250</td>\n",
       "      <td>0.004746</td>\n",
       "    </tr>\n",
       "    <tr>\n",
       "      <th>ETC</th>\n",
       "      <td>0.977094</td>\n",
       "      <td>0.004295</td>\n",
       "    </tr>\n",
       "    <tr>\n",
       "      <th>RF</th>\n",
       "      <td>0.968039</td>\n",
       "      <td>0.007467</td>\n",
       "    </tr>\n",
       "    <tr>\n",
       "      <th>KNN</th>\n",
       "      <td>0.967579</td>\n",
       "      <td>0.008428</td>\n",
       "    </tr>\n",
       "    <tr>\n",
       "      <th>SVC</th>\n",
       "      <td>0.964639</td>\n",
       "      <td>0.010483</td>\n",
       "    </tr>\n",
       "    <tr>\n",
       "      <th>XGB</th>\n",
       "      <td>0.964374</td>\n",
       "      <td>0.007609</td>\n",
       "    </tr>\n",
       "    <tr>\n",
       "      <th>GaussianNB</th>\n",
       "      <td>0.907638</td>\n",
       "      <td>0.026893</td>\n",
       "    </tr>\n",
       "    <tr>\n",
       "      <th>LR</th>\n",
       "      <td>0.892997</td>\n",
       "      <td>0.020182</td>\n",
       "    </tr>\n",
       "    <tr>\n",
       "      <th>DTC</th>\n",
       "      <td>0.851972</td>\n",
       "      <td>0.011486</td>\n",
       "    </tr>\n",
       "  </tbody>\n",
       "</table>\n",
       "</div>"
      ],
      "text/plain": [
       "                  mean_roc   std_roc\n",
       "models                              \n",
       "Stacking_5KFOLDS  0.978250  0.004746\n",
       "ETC               0.977094  0.004295\n",
       "RF                0.968039  0.007467\n",
       "KNN               0.967579  0.008428\n",
       "SVC               0.964639  0.010483\n",
       "XGB               0.964374  0.007609\n",
       "GaussianNB        0.907638  0.026893\n",
       "LR                0.892997  0.020182\n",
       "DTC               0.851972  0.011486"
      ]
     },
     "execution_count": 27,
     "metadata": {},
     "output_type": "execute_result"
    }
   ],
   "source": [
    "results_df = pd.DataFrame.from_dict(results, columns=[\"mean_roc\", \"std_roc\"], orient=\"index\")\n",
    "results_df.index.name = \"models\"\n",
    "results_df = results_df.sort_values(by=\"mean_roc\", ascending=False)\n",
    "results_df"
   ]
  },
  {
   "cell_type": "markdown",
   "id": "6178865a-e2f3-404b-8ba9-f579f0b6cee8",
   "metadata": {},
   "source": [
    "## STEP 8: Visualize the results\n",
    "*HINT: Create a bar chart with errors bars representing standard deviation*"
   ]
  },
  {
   "cell_type": "code",
   "execution_count": 28,
   "id": "fbd4ff97-3519-4c90-b717-cbeb2e082a10",
   "metadata": {
    "jupyter": {
     "source_hidden": true
    }
   },
   "outputs": [
    {
     "data": {
      "image/png": "[encoded data removed]",
      "text/plain": [
       "<Figure size 1000x600 with 1 Axes>"
      ]
     },
     "metadata": {},
     "output_type": "display_data"
    }
   ],
   "source": [
    "plt.figure(figsize=(10,6))\n",
    "plt.barh(results_df.index, results_df[\"mean_roc\"], xerr=results_df[\"std_roc\"], capsize=10)\n",
    "plt.xlabel(\"ROC AUC\")\n",
    "plt.ylabel(\"Models\")\n",
    "plt.title(\"Model Performance Comparison\")\n",
    "plt.xlim(0., 1.0)\n",
    "plt.grid(axis=\"y\", linestyle=(\"--\"), alpha=0.7)\n",
    "plt.tight_layout()\n",
    "plt.show()"
   ]
  }
 ],
 "metadata": {
  "kernelspec": {
   "display_name": "Python 3 (ipykernel)",
   "language": "python",
   "name": "python3"
  },
  "language_info": {
   "codemirror_mode": {
    "name": "ipython",
    "version": 3
   },
   "file_extension": ".py",
   "mimetype": "text/x-python",
   "name": "python",
   "nbconvert_exporter": "python",
   "pygments_lexer": "ipython3",
   "version": "3.12.8"
  }
 },
 "nbformat": 4,
 "nbformat_minor": 5
}
